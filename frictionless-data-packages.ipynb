{
 "cells": [
  {
   "cell_type": "markdown",
   "metadata": {},
   "source": [
    "NOTE: no error handling implemented"
   ]
  },
  {
   "cell_type": "markdown",
   "metadata": {},
   "source": [
    "Befeore running install netCDF4 module (https://unidata.github.io/netcdf4-python/netCDF4/index.html) \n"
   ]
  },
  {
   "cell_type": "markdown",
   "metadata": {},
   "source": [
    "Modify the following section settings your local save path and the id of the folder to elaborate from https://github.com/Swiss-Polar-Institute/frictionless-data-packages"
   ]
  },
  {
   "cell_type": "code",
   "execution_count": null,
   "metadata": {},
   "outputs": [],
   "source": [
    "### VARIABLE TO  MODIFY ###\n",
    "id=\"10.5281_zenodo.3250980\"\n",
    "basesavepath=\"c:\\\\SPI\\\\\""
   ]
  },
  {
   "cell_type": "code",
   "execution_count": null,
   "metadata": {},
   "outputs": [],
   "source": [
    "from datapackage import Package\n",
    "from tableschema import Table\n",
    "import datetime\n",
    "import os\n",
    "import urllib.request\n",
    "from netCDF4 import Dataset\n",
    "import re"
   ]
  },
  {
   "cell_type": "code",
   "execution_count": null,
   "metadata": {},
   "outputs": [],
   "source": [
    "datapackage_link=\"https://raw.githubusercontent.com/Swiss-Polar-Institute/frictionless-data-packages/dev/\" + id + \"/datapackage.json\"\n",
    "tableschema_link=\"https://raw.githubusercontent.com/Swiss-Polar-Institute/frictionless-data-packages/dev/\" + id + \"/tableschema.json\"\n",
    "netcdf_name=id +\".nc\""
   ]
  },
  {
   "cell_type": "code",
   "execution_count": null,
   "metadata": {},
   "outputs": [],
   "source": [
    "savepath=os.path.join(basesavepath, id)\n",
    "savepath_datapackage=os.path.join(savepath, \"datapackage.json\")\n",
    "savepath_tableschema=os.path.join(savepath, \"tableschema.json\")\n",
    "savepath_NetCDF=os.path.join(savepath, netcdf_name)"
   ]
  },
  {
   "cell_type": "code",
   "execution_count": null,
   "metadata": {},
   "outputs": [],
   "source": [
    "os.mkdir(savepath)\n",
    "urllib.request.urlretrieve(datapackage_link, savepath_datapackage)\n",
    "urllib.request.urlretrieve(tableschema_link, savepath_tableschema)"
   ]
  },
  {
   "cell_type": "code",
   "execution_count": null,
   "metadata": {},
   "outputs": [],
   "source": [
    "package = Package(savepath_datapackage)\n",
    "print (package.descriptor['name'])"
   ]
  },
  {
   "cell_type": "code",
   "execution_count": null,
   "metadata": {},
   "outputs": [],
   "source": [
    "dataIsValid=False\n",
    "for resource in package.resources:\n",
    "            print(f'Resource: {resource.name} ')\n",
    "            if resource.tabular is False:               \n",
    "                continue\n",
    "            if resource.valid is False:\n",
    "                print(f'Tableschema: {resource.name} is NOT valid!')\n",
    "                print(resource.errors)\n",
    "                continue\n",
    "            resource.read()\n",
    "            dataIsValid=True\n",
    "            print(f'Tableschema: {resource.name} is valid!')\n",
    "            resourceData=package.get_resource(resource.name)            \n",
    "            break"
   ]
  },
  {
   "cell_type": "code",
   "execution_count": null,
   "metadata": {
    "scrolled": true
   },
   "outputs": [],
   "source": [
    "#create netcdf\n",
    "print(\"create netcdf\")\n",
    "netcdf = Dataset(savepath_NetCDF, \"w\", format=\"NETCDF4\")\n",
    "\n",
    "#create dimension\n",
    "print(\"create dimension\")\n",
    "row = netcdf.createDimension(\"row\", None) ##unlimited dimension\n",
    "\n",
    "#create global attribute\n",
    "print(\"create global attribute\")\n",
    "if 'name' in package.descriptor:\n",
    "    netcdf.name=package.descriptor['name']\n",
    "if 'id' in package.descriptor:\n",
    "    netcdf.id=package.descriptor['id']\n",
    "if 'title' in package.descriptor:\n",
    "    netcdf.title=package.descriptor['title']\n",
    "if 'description' in package.descriptor:\n",
    "    netcdf.description=package.descriptor['description']\n",
    "if 'homepage' in package.descriptor:\n",
    "    netcdf.homepage=package.descriptor['homepage']\n",
    "if 'version' in package.descriptor:\n",
    "    netcdf.version=package.descriptor['version']\n",
    "if 'created' in package.descriptor:\n",
    "    netcdf.created=package.descriptor['created']\n",
    "if 'x_spi_platform_code' in package.descriptor:\n",
    "    netcdf.platform_code=package.descriptor['x_spi_platform_code']\n",
    "if 'x_spi_platform_name' in package.descriptor:\n",
    "    netcdf.platform_name=package.descriptor['x_spi_platform_name']\n",
    "if 'x_spi_type' in package.descriptor:\n",
    "    netcdf.type=package.descriptor['x_spi_type']\n",
    "if 'x_spi_citation' in package.descriptor:\n",
    "    netcdf.citation=package.descriptor['x_spi_citation']\n",
    "if 'keywords' in package.descriptor:\n",
    "    netcdf.keywords=','.join(package.descriptor['keywords'])\n",
    "netcdf.cdm_data_type=\"Other\"\n",
    "netcdf.Conventions=\"COARDS, CF-1.6, ACDD-1.3\"\n",
    "if 'contributors' in package.descriptor:\n",
    "    if 'title' in package.descriptor['contributors'][0]:\n",
    "        netcdf.creator_name = package.descriptor['contributors'][0]['title']\n",
    "    if 'path' in package.descriptor['contributors'][0]:\n",
    "        netcdf.creator_url = package.descriptor['contributors'][0]['path']\n",
    "    if 'organisation' in package.descriptor['contributors'][0]:\n",
    "        netcdf.institution = package.descriptor['contributors'][0]['organisation']\n",
    "netcdf.creator_type = \"institution\"  \n",
    "if 'homepage' in package.descriptor:\n",
    "    netcdf.DOI=package.descriptor['homepage']\n",
    "    netcdf.infoUrl = package.descriptor['homepage']\n",
    "if 'licenses' in package.descriptor:    \n",
    "    if 'name' in package.descriptor['licenses'][0]:    \n",
    "        netcdf.license = package.descriptor['licenses'][0]['name']\n",
    "if 'description' in package.descriptor:\n",
    "    netcdf.summary = package.descriptor['description']\n",
    "if 'contributors' in package.descriptor:\n",
    "    netcdf.contributors=str(package.descriptor['contributors'])\n",
    "\n",
    "#create variables\n",
    "print(\"create variables\")\n",
    "time = netcdf.createVariable(\"time\",\"f8\",(\"row\",))\n",
    "for field in resourceData.schema.fields:\n",
    "    fieldName=field.name.replace(\" \",\"\")\n",
    "    fieldName=re.sub(r'\\[.*\\]','',fieldName)\n",
    "    print(\"fieldName=\" + fieldName)\n",
    "    fieldtype=\"\"\n",
    "    fieldsize=\"\"\n",
    "    if field.type==\"string\":\n",
    "        fieldtype=\"S1\"        \n",
    "        maxFieldSize=0\n",
    "        for row in resourceData.iter(keyed = True):\n",
    "            if len(row[field.name])>maxFieldSize:\n",
    "                maxFieldSize=len(row[field.name]) \n",
    "        fieldsize=str(maxFieldSize)\n",
    "    elif field.type==\"integer\":\n",
    "        fieldtype=\"i4\"\n",
    "    elif field.type==\"time\":\n",
    "        fieldtype=\"S1\"\n",
    "        fieldsize=\"4\"\n",
    "    elif field.type==\"datetime\":\n",
    "        fieldtype=\"\"\n",
    "    elif field.type==\"number\":\n",
    "        fieldtype=\"f8\"\n",
    "    \n",
    "    print(\"fieldtype=\" + fieldtype)\n",
    "    \n",
    "    if fieldtype==\"\":\n",
    "        continue\n",
    "    if fieldsize==\"\":\n",
    "        newField = netcdf.createVariable(fieldName,fieldtype,(\"row\",))\n",
    "    else:\n",
    "        netcdf.createDimension(fieldName + \"_strlen\", int(fieldsize))\n",
    "        newField = netcdf.createVariable(fieldName,fieldtype,(\"row\",fieldName + \"_strlen\",))\n",
    "\n",
    "    newField.description=field.descriptor['description']\n",
    "    if 'unit' in field.descriptor:\n",
    "        newField.unit=field.descriptor['unit']\n",
    "    if 'x_spi_cf_standard_name' in field.descriptor:\n",
    "        newField.standard_name=field.descriptor['x_spi_cf_standard_name']\n",
    "    if 'x_spi_cf_unit' in field.descriptor:\n",
    "        newField.unit=field.descriptor['x_spi_cf_unit']\n",
    "    if 'x_spi_cf_attribute' in field.descriptor:\n",
    "        newField.attribute=field.descriptor['x_spi_cf_attribute']\n",
    "    \n",
    "print(\"fill values to be implemented\")    \n",
    "\n",
    "\n"
   ]
  },
  {
   "cell_type": "code",
   "execution_count": null,
   "metadata": {},
   "outputs": [],
   "source": [
    "netcdf.close()    "
   ]
  }
 ],
 "metadata": {
  "kernelspec": {
   "display_name": "Python 3",
   "language": "python",
   "name": "python3"
  },
  "language_info": {
   "codemirror_mode": {
    "name": "ipython",
    "version": 3
   },
   "file_extension": ".py",
   "mimetype": "text/x-python",
   "name": "python",
   "nbconvert_exporter": "python",
   "pygments_lexer": "ipython3",
   "version": "3.7.4"
  }
 },
 "nbformat": 4,
 "nbformat_minor": 2
}
